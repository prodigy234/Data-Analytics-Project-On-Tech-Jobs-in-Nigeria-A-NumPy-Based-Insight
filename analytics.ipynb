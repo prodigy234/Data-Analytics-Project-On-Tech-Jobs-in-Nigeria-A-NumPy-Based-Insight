{
 "cells": [
  {
   "cell_type": "markdown",
   "id": "28b88a8a",
   "metadata": {},
   "source": [
    "# Step 1: Import Libraries"
   ]
  },
  {
   "cell_type": "code",
   "execution_count": 94,
   "id": "7695e163",
   "metadata": {},
   "outputs": [],
   "source": [
    "import numpy as np"
   ]
  },
  {
   "cell_type": "markdown",
   "id": "a54ce2f5",
   "metadata": {},
   "source": [
    "# Step 2: Simulate Dataset"
   ]
  },
  {
   "cell_type": "code",
   "execution_count": 95,
   "id": "3f7717f3",
   "metadata": {},
   "outputs": [],
   "source": [
    "# Set seed for reproducibility\n",
    "np.random.seed(42)\n",
    "\n",
    "# Sample data\n",
    "job_titles = np.array(['Data Analyst', 'Data Scientist', 'Software Engineer', 'DevOps Engineer', 'UI/UX Designer', 'Product Manager', 'Cybersecurity Analyst',\n",
    "                        'Mobile App Developer', 'AI/ML Engineer', 'Cloud Architect', 'Full-Stack Developer', 'Digital Marketer', 'Project Manager', 'Business Analyst',\n",
    "                        'Big Data Engineer', 'Blockchain Developer', 'Software Architect', 'IT Project Manager', 'Information Security Manager', 'Machine Learning Architect'])\n",
    "cities = np.array(['Lagos', 'Abuja', 'Port Harcourt', 'Enugu', 'Ibadan'])\n",
    "employment_types = np.array(['Remote', 'On-site', 'Hybrid'])\n",
    "experience_levels = np.array(['0-2 yrs', '3-5 yrs', '6-10 yrs', '10+ yrs'])\n",
    "\n",
    "n = 200  # number of records\n",
    "\n",
    "# Randomly assign fields\n",
    "job_role = np.random.choice(job_titles, n)\n",
    "city = np.random.choice(cities, n)\n",
    "emp_type = np.random.choice(employment_types, n)\n",
    "experience = np.random.choice(experience_levels, n)\n",
    "\n",
    "# Salary ranges in NGN by job role\n",
    "salary_ranges = {\n",
    "    'Data Analyst': (200000, 800000),  # Entry to Senior Level\n",
    "    'Data Scientist': (500000, 2000000),  # Entry to Senior Level\n",
    "    'Software Engineer': (300000, 1500000),  # Entry to Senior Level\n",
    "    'DevOps Engineer': (400000, 1250000),  # Entry to Senior Level\n",
    "    'UI/UX Designer': (150000, 1200000),  # Entry to Senior Level\n",
    "    'Product Manager': (300000, 2500000),  # Entry to Senior Level\n",
    "    'Cybersecurity Analyst': (200000, 2000000),  # Entry to Senior Level\n",
    "    'Mobile App Developer': (300000, 1000000),  # Entry to Senior Level\n",
    "    'AI/ML Engineer': (500000, 2000000),  # Entry to Senior Level\n",
    "    'Cloud Architect': (1250000, 2080000),  # Entry to Senior Level\n",
    "    'Full-Stack Developer': (300000, 1000000),  # Entry to Senior Level\n",
    "    'Digital Marketer': (100000, 1000000),  # Entry to Senior Level\n",
    "    'Project Manager': (400000, 1500000),  # Entry to Senior Level\n",
    "    'Business Analyst': (300000, 1000000),  # Entry to Senior Level\n",
    "    'Big Data Engineer': (250000, 1000000),  # Entry to Senior Level\n",
    "    'Blockchain Developer': (400000, 1250000),  # Entry to Senior Level\n",
    "    'Software Architect': (500000, 1500000),  # Entry to Senior Level\n",
    "    'IT Project Manager': (500000, 1500000),  # Entry to Senior Level\n",
    "    'Information Security Manager': (600000, 1500000),  # Entry to Senior Level\n",
    "    'Machine Learning Architect': (500000, 1500000),  # Entry to Senior Level\n",
    "}\n",
    "\n",
    "\n",
    "# Generate salary based on job role\n",
    "salary = np.array([\n",
    "    np.random.randint(*salary_ranges[job]) for job in job_role\n",
    "])\n"
   ]
  },
  {
   "cell_type": "markdown",
   "id": "74f0c3cd",
   "metadata": {},
   "source": [
    "# Step 3: Basic Summary Statistics"
   ]
  },
  {
   "cell_type": "code",
   "execution_count": 96,
   "id": "f87f7bcc",
   "metadata": {},
   "outputs": [
    {
     "name": "stdout",
     "output_type": "stream",
     "text": [
      "Average Salary: ₦918,560.54\n",
      "Highest Salary: ₦2,149,396\n",
      "Lowest Salary: ₦101,062\n"
     ]
    }
   ],
   "source": [
    "print(f\"Average Salary: ₦{np.mean(salary):,.2f}\")\n",
    "print(f\"Highest Salary: ₦{np.max(salary):,}\")\n",
    "print(f\"Lowest Salary: ₦{np.min(salary):,}\")"
   ]
  },
  {
   "cell_type": "markdown",
   "id": "014715d7",
   "metadata": {},
   "source": [
    "# Step 4: Top Paying Job Roles"
   ]
  },
  {
   "cell_type": "code",
   "execution_count": 97,
   "id": "d4c130ab",
   "metadata": {},
   "outputs": [
    {
     "name": "stdout",
     "output_type": "stream",
     "text": [
      "AI/ML Engineer: Average Salary = ₦1,358,239.45\n",
      "Big Data Engineer: Average Salary = ₦662,221.15\n",
      "Blockchain Developer: Average Salary = ₦767,985.43\n",
      "Business Analyst: Average Salary = ₦760,689.33\n",
      "Cloud Architect: Average Salary = ₦1,751,636.14\n",
      "Cybersecurity Analyst: Average Salary = ₦982,083.20\n",
      "Data Analyst: Average Salary = ₦525,781.54\n",
      "Data Scientist: Average Salary = ₦1,335,692.42\n",
      "DevOps Engineer: Average Salary = ₦814,235.20\n",
      "Digital Marketer: Average Salary = ₦635,208.57\n",
      "Full-Stack Developer: Average Salary = ₦560,209.00\n",
      "IT Project Manager: Average Salary = ₦1,078,145.60\n",
      "Information Security Manager: Average Salary = ₦1,055,738.00\n",
      "Machine Learning Architect: Average Salary = ₦817,187.30\n",
      "Mobile App Developer: Average Salary = ₦595,727.27\n",
      "Product Manager: Average Salary = ₦1,424,346.75\n",
      "Project Manager: Average Salary = ₦1,106,210.88\n",
      "Software Architect: Average Salary = ₦941,002.27\n",
      "Software Engineer: Average Salary = ₦792,471.92\n",
      "UI/UX Designer: Average Salary = ₦912,705.90\n"
     ]
    }
   ],
   "source": [
    "for title in np.unique(job_titles):\n",
    "    avg_sal = np.mean(salary[job_role == title])\n",
    "    print(f\"{title}: Average Salary = ₦{avg_sal:,.2f}\")"
   ]
  },
  {
   "cell_type": "markdown",
   "id": "0b2dd8c6",
   "metadata": {},
   "source": [
    "# Step 5: Experience Level Breakdown"
   ]
  },
  {
   "cell_type": "code",
   "execution_count": 98,
   "id": "ee82b09e",
   "metadata": {},
   "outputs": [
    {
     "name": "stdout",
     "output_type": "stream",
     "text": [
      "0-2 yrs: Avg Salary = ₦891,465.81\n",
      "10+ yrs: Avg Salary = ₦961,619.16\n",
      "3-5 yrs: Avg Salary = ₦976,242.09\n",
      "6-10 yrs: Avg Salary = ₦846,980.89\n"
     ]
    }
   ],
   "source": [
    "for level in np.unique(experience_levels):\n",
    "    exp_sal = np.mean(salary[experience == level])\n",
    "    print(f\"{level}: Avg Salary = ₦{exp_sal:,.2f}\")"
   ]
  },
  {
   "cell_type": "markdown",
   "id": "c748d1e0",
   "metadata": {},
   "source": [
    "### Ordering it based on experience levels"
   ]
  },
  {
   "cell_type": "code",
   "execution_count": 99,
   "id": "5afbb33d",
   "metadata": {},
   "outputs": [
    {
     "name": "stdout",
     "output_type": "stream",
     "text": [
      "📊 Average Salary by Experience Level in Nigeria Tech Jobs\n",
      "\n",
      "0-2 yrs : Average Salary = ₦891,465.81\n",
      "3-5 yrs : Average Salary = ₦976,242.09\n",
      "6-10 yrs: Average Salary = ₦846,980.89\n",
      "10+ yrs : Average Salary = ₦961,619.16\n"
     ]
    }
   ],
   "source": [
    "# Define the experience levels in the order you want\n",
    "ordered_experience_levels = ['0-2 yrs', '3-5 yrs', '6-10 yrs', '10+ yrs']\n",
    "\n",
    "print(\"📊 Average Salary by Experience Level in Nigeria Tech Jobs\\n\")\n",
    "\n",
    "for level in ordered_experience_levels:\n",
    "    exp_sal = np.mean(salary[experience == level])\n",
    "    print(f\"{level:<8}: Average Salary = ₦{exp_sal:,.2f}\")"
   ]
  },
  {
   "cell_type": "markdown",
   "id": "7447969a",
   "metadata": {},
   "source": [
    "### Ordering it based on average salary"
   ]
  },
  {
   "cell_type": "code",
   "execution_count": 100,
   "id": "dbe941a3",
   "metadata": {},
   "outputs": [
    {
     "name": "stdout",
     "output_type": "stream",
     "text": [
      "Average Salary by Experience Level (Descending):\n",
      "3-5 yrs: Avg Salary = ₦976,242.09\n",
      "10+ yrs: Avg Salary = ₦961,619.16\n",
      "0-2 yrs: Avg Salary = ₦891,465.81\n",
      "6-10 yrs: Avg Salary = ₦846,980.89\n"
     ]
    }
   ],
   "source": [
    "# Step 1: Collect (experience level, average salary) pairs\n",
    "exp_salaries = []\n",
    "for level in np.unique(experience_levels):\n",
    "    exp_sal = np.mean(salary[experience == level])\n",
    "    exp_salaries.append((level, exp_sal))\n",
    "\n",
    "# Step 2: Sort the list in descending order by average salary\n",
    "exp_salaries.sort(key=lambda x: x[1], reverse=True)\n",
    "\n",
    "# Step 3: Display results\n",
    "print(\"Average Salary by Experience Level (Descending):\")\n",
    "for level, sal in exp_salaries:\n",
    "    print(f\"{level}: Avg Salary = ₦{sal:,.2f}\")\n"
   ]
  },
  {
   "cell_type": "markdown",
   "id": "c244d9fd",
   "metadata": {},
   "source": [
    "# Step 6: City-Based Analysis"
   ]
  },
  {
   "cell_type": "code",
   "execution_count": 101,
   "id": "fb8e14ce",
   "metadata": {},
   "outputs": [
    {
     "name": "stdout",
     "output_type": "stream",
     "text": [
      "Abuja: Avg Salary = ₦817,733.36\n",
      "Enugu: Avg Salary = ₦919,468.86\n",
      "Ibadan: Avg Salary = ₦858,999.53\n",
      "Lagos: Avg Salary = ₦985,689.24\n",
      "Port Harcourt: Avg Salary = ₦1,008,152.80\n"
     ]
    }
   ],
   "source": [
    "for city_name in np.unique(cities):\n",
    "    city_sal = np.mean(salary[city == city_name])\n",
    "    print(f\"{city_name}: Avg Salary = ₦{city_sal:,.2f}\")"
   ]
  },
  {
   "cell_type": "markdown",
   "id": "a5ad07bd",
   "metadata": {},
   "source": [
    "# Step 7: Employment Type Analysis"
   ]
  },
  {
   "cell_type": "code",
   "execution_count": 102,
   "id": "5942ad7e",
   "metadata": {},
   "outputs": [
    {
     "name": "stdout",
     "output_type": "stream",
     "text": [
      "Hybrid: Avg Salary = ₦920,124.82\n",
      "On-site: Avg Salary = ₦942,099.41\n",
      "Remote: Avg Salary = ₦900,766.50\n"
     ]
    }
   ],
   "source": [
    "for etype in np.unique(emp_type):\n",
    "    etype_sal = np.mean(salary[emp_type == etype])\n",
    "    print(f\"{etype}: Avg Salary = ₦{etype_sal:,.2f}\")"
   ]
  },
  {
   "cell_type": "markdown",
   "id": "44658f18",
   "metadata": {},
   "source": [
    "# Step 8: Filter High-Paying Remote Roles"
   ]
  },
  {
   "cell_type": "code",
   "execution_count": 103,
   "id": "b77d3926",
   "metadata": {},
   "outputs": [
    {
     "name": "stdout",
     "output_type": "stream",
     "text": [
      "High-paying Remote Roles:\n",
      "['Machine Learning Architect' 'Mobile App Developer' 'DevOps Engineer'\n",
      " 'Data Analyst' 'Digital Marketer' 'Digital Marketer'\n",
      " 'Machine Learning Architect' 'Software Engineer' 'Cybersecurity Analyst'\n",
      " 'IT Project Manager' 'IT Project Manager' 'AI/ML Engineer'\n",
      " 'Cybersecurity Analyst' 'Business Analyst' 'DevOps Engineer'\n",
      " 'Data Scientist' 'DevOps Engineer' 'Blockchain Developer'\n",
      " 'Big Data Engineer' 'Business Analyst' 'Mobile App Developer'\n",
      " 'Project Manager' 'IT Project Manager' 'Project Manager'\n",
      " 'Project Manager' 'Digital Marketer' 'Full-Stack Developer'\n",
      " 'Software Architect' 'Software Engineer' 'Data Analyst' 'UI/UX Designer'\n",
      " 'Cybersecurity Analyst' 'Cybersecurity Analyst' 'Digital Marketer'\n",
      " 'Data Scientist' 'Data Analyst' 'UI/UX Designer' 'UI/UX Designer'\n",
      " 'Big Data Engineer' 'Software Engineer' 'UI/UX Designer'\n",
      " 'Business Analyst' 'AI/ML Engineer' 'Cloud Architect' 'UI/UX Designer'\n",
      " 'Big Data Engineer' 'Information Security Manager' 'Project Manager'\n",
      " 'Product Manager' 'Software Engineer' 'Cybersecurity Analyst'\n",
      " 'Product Manager' 'UI/UX Designer' 'Cloud Architect' 'AI/ML Engineer'\n",
      " 'Machine Learning Architect' 'Digital Marketer' 'Data Scientist'\n",
      " 'UI/UX Designer' 'Data Scientist' 'Product Manager' 'Product Manager'\n",
      " 'Machine Learning Architect' 'Product Manager' 'Full-Stack Developer'\n",
      " 'Blockchain Developer' 'Data Analyst' 'Blockchain Developer'\n",
      " 'Software Engineer' 'Machine Learning Architect'\n",
      " 'Information Security Manager']\n",
      "[ 753490  665340 1142729  794124  728861  529802  702846  966997 1463455\n",
      "  863714 1401791 1428818 1359771  666824  549849 1722869  586717  583868\n",
      "  909792  888579  510176 1314032  972930 1317559  789593  772108  566765\n",
      "  758930 1104462  648874 1003499  830265 1878050  670559 1360120  631734\n",
      "  815627  722203  516776  958956  681849  767010  886193 1985265  512920\n",
      "  959913  712581 1302580 1244789  718034  956254 1333255 1147083 2012501\n",
      " 1530117 1299666  625134 1116210 1104480 1653113 1915397 1905118  867436\n",
      "  582272  685925 1166641  789833  701953  678892  505287  608512]\n"
     ]
    }
   ],
   "source": [
    "high_remote = (salary > 500000) & (emp_type == 'Remote')\n",
    "print(\"High-paying Remote Roles:\")\n",
    "print(job_role[high_remote])\n",
    "print(salary[high_remote])"
   ]
  },
  {
   "cell_type": "markdown",
   "id": "98f23c08",
   "metadata": {},
   "source": [
    "# Step 9: Find Roles That Pay Above Industry Average"
   ]
  },
  {
   "cell_type": "code",
   "execution_count": 104,
   "id": "04cdc118",
   "metadata": {},
   "outputs": [
    {
     "name": "stdout",
     "output_type": "stream",
     "text": [
      "Roles with Salaries Above Industry Average:\n",
      "['AI/ML Engineer' 'Big Data Engineer' 'Blockchain Developer'\n",
      " 'Business Analyst' 'Cloud Architect' 'Cybersecurity Analyst'\n",
      " 'Data Scientist' 'DevOps Engineer' 'Digital Marketer'\n",
      " 'IT Project Manager' 'Information Security Manager'\n",
      " 'Machine Learning Architect' 'Mobile App Developer' 'Product Manager'\n",
      " 'Project Manager' 'Software Architect' 'Software Engineer'\n",
      " 'UI/UX Designer']\n"
     ]
    }
   ],
   "source": [
    "overall_avg = np.mean(salary)\n",
    "above_avg = job_role[salary > overall_avg]\n",
    "unique_roles = np.unique(above_avg)\n",
    "\n",
    "print(\"Roles with Salaries Above Industry Average:\")\n",
    "print(unique_roles)"
   ]
  },
  {
   "cell_type": "markdown",
   "id": "a750efe4",
   "metadata": {},
   "source": [
    "# Step 10: Identify Job Role with Highest Spread in Salaries"
   ]
  },
  {
   "cell_type": "code",
   "execution_count": 105,
   "id": "dafc5cd2",
   "metadata": {},
   "outputs": [
    {
     "name": "stdout",
     "output_type": "stream",
     "text": [
      "\n",
      "Salary Range per Role:\n",
      "AI/ML Engineer: Spread = ₦965,954\n",
      "Big Data Engineer: Spread = ₦717,022\n",
      "Blockchain Developer: Spread = ₦721,639\n",
      "Business Analyst: Spread = ₦297,012\n",
      "Cloud Architect: Spread = ₦759,791\n",
      "Cybersecurity Analyst: Spread = ₦1,610,389\n",
      "Data Analyst: Spread = ₦520,438\n",
      "Data Scientist: Spread = ₦1,401,423\n",
      "DevOps Engineer: Spread = ₦764,939\n",
      "Digital Marketer: Spread = ₦888,451\n",
      "Full-Stack Developer: Spread = ₦570,818\n",
      "IT Project Manager: Spread = ₦538,077\n",
      "Information Security Manager: Spread = ₦886,135\n",
      "Machine Learning Architect: Spread = ₦834,586\n",
      "Mobile App Developer: Spread = ₦623,814\n",
      "Product Manager: Spread = ₦1,567,124\n",
      "Project Manager: Spread = ₦878,123\n",
      "Software Architect: Spread = ₦866,345\n",
      "Software Engineer: Spread = ₦773,808\n",
      "UI/UX Designer: Spread = ₦665,535\n"
     ]
    }
   ],
   "source": [
    "print(\"\\nSalary Range per Role:\")\n",
    "for role in np.unique(job_titles):\n",
    "    role_salaries = salary[job_role == role]\n",
    "    spread = np.max(role_salaries) - np.min(role_salaries)\n",
    "    print(f\"{role}: Spread = ₦{spread:,}\")"
   ]
  },
  {
   "cell_type": "markdown",
   "id": "9965449a",
   "metadata": {},
   "source": [
    "# Step 11: Comparing Salary vs. Experience using Percentiles\n",
    "\n",
    "This helps identify how salaries vary across experience levels in terms of statistical spread (25th, 50th, 75th percentiles)."
   ]
  },
  {
   "cell_type": "code",
   "execution_count": 106,
   "id": "60868077",
   "metadata": {},
   "outputs": [
    {
     "name": "stdout",
     "output_type": "stream",
     "text": [
      "Salary Percentiles by Experience Level:\n",
      "0-2 yrs → 25th: ₦586,717, 50th (median): ₦810,736, 75th: ₦1,113,157\n",
      "10+ yrs → 25th: ₦639,924, 50th (median): ₦907,689, 75th: ₦1,193,759\n",
      "3-5 yrs → 25th: ₦512,920, 50th (median): ₦950,199, 75th: ₦1,333,255\n",
      "6-10 yrs → 25th: ₦600,188, 50th (median): ₦728,861, 75th: ₦1,070,912\n"
     ]
    }
   ],
   "source": [
    "print(\"Salary Percentiles by Experience Level:\")\n",
    "for level in np.unique(experience_levels):\n",
    "    sal_by_exp = salary[experience == level]\n",
    "    p25 = np.percentile(sal_by_exp, 25)\n",
    "    p50 = np.percentile(sal_by_exp, 50)  # median\n",
    "    p75 = np.percentile(sal_by_exp, 75)\n",
    "    print(f\"{level} → 25th: ₦{p25:,.0f}, 50th (median): ₦{p50:,.0f}, 75th: ₦{p75:,.0f}\")"
   ]
  },
  {
   "cell_type": "markdown",
   "id": "a5f6dfb8",
   "metadata": {},
   "source": [
    "# Step 12: Correlation Between Job Role and Salary using Group Averages\n",
    "\n",
    "This reveals which job roles command higher or lower average salaries."
   ]
  },
  {
   "cell_type": "code",
   "execution_count": 107,
   "id": "8c194bd7",
   "metadata": {},
   "outputs": [
    {
     "name": "stdout",
     "output_type": "stream",
     "text": [
      "\n",
      "Average Salary by Job Role (Descending):\n",
      "Cloud Architect: ₦1,751,636\n",
      "Product Manager: ₦1,424,347\n",
      "AI/ML Engineer: ₦1,358,239\n",
      "Data Scientist: ₦1,335,692\n",
      "Project Manager: ₦1,106,211\n",
      "IT Project Manager: ₦1,078,146\n",
      "Information Security Manager: ₦1,055,738\n",
      "Cybersecurity Analyst: ₦982,083\n",
      "Software Architect: ₦941,002\n",
      "UI/UX Designer: ₦912,706\n",
      "Machine Learning Architect: ₦817,187\n",
      "DevOps Engineer: ₦814,235\n",
      "Software Engineer: ₦792,472\n",
      "Blockchain Developer: ₦767,985\n",
      "Business Analyst: ₦760,689\n",
      "Big Data Engineer: ₦662,221\n",
      "Digital Marketer: ₦635,209\n",
      "Mobile App Developer: ₦595,727\n",
      "Full-Stack Developer: ₦560,209\n",
      "Data Analyst: ₦525,782\n"
     ]
    }
   ],
   "source": [
    "job_avg_salaries = []\n",
    "for role in np.unique(job_role):\n",
    "    avg = np.mean(salary[job_role == role])\n",
    "    job_avg_salaries.append((role, avg))\n",
    "\n",
    "# Sort descending by average salary\n",
    "job_avg_salaries.sort(key=lambda x: x[1], reverse=True)\n",
    "\n",
    "print(\"\\nAverage Salary by Job Role (Descending):\")\n",
    "for role, avg in job_avg_salaries:\n",
    "    print(f\"{role}: ₦{avg:,.0f}\")"
   ]
  },
  {
   "cell_type": "markdown",
   "id": "7e293e18",
   "metadata": {},
   "source": [
    "# Step 13: Simulating Gender Breakdown and Computing Gender Pay Gap\n",
    "\n",
    "Let's randomly assign gender, then compute average salaries by gender and the gap."
   ]
  },
  {
   "cell_type": "code",
   "execution_count": 108,
   "id": "e0403b08",
   "metadata": {},
   "outputs": [
    {
     "name": "stdout",
     "output_type": "stream",
     "text": [
      "\n",
      "Gender Pay Analysis:\n",
      "Average Salary (Male): ₦952,775.62\n",
      "Average Salary (Female): ₦880,743.87\n",
      "Pay Gap: ₦72,031.75 (7.56% difference)\n"
     ]
    }
   ],
   "source": [
    "# Simulate gender array\n",
    "genders = np.random.choice(['Male', 'Female'], n)\n",
    "\n",
    "# Compute average salary by gender\n",
    "male_avg = np.mean(salary[genders == 'Male'])\n",
    "female_avg = np.mean(salary[genders == 'Female'])\n",
    "\n",
    "pay_gap = male_avg - female_avg\n",
    "pay_gap_percent = (pay_gap / male_avg) * 100\n",
    "\n",
    "print(\"\\nGender Pay Analysis:\")\n",
    "print(f\"Average Salary (Male): ₦{male_avg:,.2f}\")\n",
    "print(f\"Average Salary (Female): ₦{female_avg:,.2f}\")\n",
    "print(f\"Pay Gap: ₦{pay_gap:,.2f} ({pay_gap_percent:.2f}% difference)\")"
   ]
  },
  {
   "cell_type": "markdown",
   "id": "042251fd",
   "metadata": {},
   "source": [
    "# Step 14: Classify Salaries into Categories (Low, Mid, High)\n",
    "\n",
    "This helps segment salaries for better interpretation and possible targeting strategies."
   ]
  },
  {
   "cell_type": "code",
   "execution_count": 109,
   "id": "3135b7ef",
   "metadata": {},
   "outputs": [
    {
     "name": "stdout",
     "output_type": "stream",
     "text": [
      "\n",
      "Salary Category Distribution:\n",
      "High: 146 jobs\n",
      "Low: 6 jobs\n",
      "Mid: 48 jobs\n"
     ]
    }
   ],
   "source": [
    "# Define salary thresholds (these can be customized)\n",
    "low_thresh = 300000\n",
    "high_thresh = 600000\n",
    "\n",
    "# Classify each salary\n",
    "salary_categories = np.where(salary < low_thresh, 'Low',\n",
    "                     np.where(salary <= high_thresh, 'Mid', 'High'))\n",
    "\n",
    "# Count by category\n",
    "unique, counts = np.unique(salary_categories, return_counts=True)\n",
    "\n",
    "print(\"\\nSalary Category Distribution:\")\n",
    "for cat, count in zip(unique, counts):\n",
    "    print(f\"{cat}: {count} jobs\")"
   ]
  }
 ],
 "metadata": {
  "kernelspec": {
   "display_name": "Python 3",
   "language": "python",
   "name": "python3"
  },
  "language_info": {
   "codemirror_mode": {
    "name": "ipython",
    "version": 3
   },
   "file_extension": ".py",
   "mimetype": "text/x-python",
   "name": "python",
   "nbconvert_exporter": "python",
   "pygments_lexer": "ipython3",
   "version": "3.8.0"
  }
 },
 "nbformat": 4,
 "nbformat_minor": 5
}
